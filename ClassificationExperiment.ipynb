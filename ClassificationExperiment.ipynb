{
 "cells": [
  {
   "cell_type": "markdown",
   "metadata": {},
   "source": [
    "# Linear Classification and Stochastic Gradient Descent"
   ]
  },
  {
   "cell_type": "code",
   "execution_count": 80,
   "metadata": {
    "collapsed": true
   },
   "outputs": [],
   "source": [
    "import numpy as np\n",
    "from sklearn.model_selection import train_test_split\n",
    "import matplotlib\n",
    "from pylab import *\n",
    "from sklearn.datasets import load_svmlight_file\n",
    "import random"
   ]
  },
  {
   "cell_type": "code",
   "execution_count": 81,
   "metadata": {},
   "outputs": [
    {
     "name": "stdout",
     "output_type": "stream",
     "text": [
      "The demensin of x_train dataset is: (32561, 123)\n",
      "The demensin of x_test dataset is: (16281, 123)\n"
     ]
    }
   ],
   "source": [
    "#read data\n",
    "x_train,y_train = load_svmlight_file(\"a9a\")\n",
    "x_test,y_test = load_svmlight_file(\"a9a.t\",n_features=123)\n",
    "#if validation set needed\n",
    "#x_train,x_valid,y_train,y_valid = train_test_split(x_train,y_train,test_size = 0.33) \n",
    "\n",
    "(n,m) = x_train.shape\n",
    "print(\"The demensin of x_train dataset is:\",(n,m))\n",
    "print(\"The demensin of x_test dataset is:\",x_test.shape)"
   ]
  },
  {
   "cell_type": "code",
   "execution_count": 82,
   "metadata": {},
   "outputs": [],
   "source": [
    "#initialize data\n",
    "x_train = x_train.todense()\n",
    "x_test = x_test.todense()\n",
    "#add constant term row\n",
    "x_train = np.hstack((np.ones((n,1)),x_train))\n",
    "x_test = np.hstack((np.ones((len(x_test),1)),x_test)) \n",
    "y_train = y_train.reshape((n,1))\n",
    "y_test = y_test.reshape((len(y_test),1))\n",
    "\n",
    "\n",
    "#if labels are {0,1}\n",
    "#idx = np.where(y_train =  = 0)\n",
    "#y_train[idx] = -1"
   ]
  },
  {
   "cell_type": "code",
   "execution_count": 219,
   "metadata": {},
   "outputs": [],
   "source": [
    "def rightRate(gd,pred):\n",
    "    pred[pred>-1] = 1\n",
    "    pred[pred<=-1] = -1\n",
    "    right=np.count_nonzero(pred==gd)\n",
    "    return right/len(gd)"
   ]
  },
  {
   "cell_type": "code",
   "execution_count": 134,
   "metadata": {
    "collapsed": true
   },
   "outputs": [],
   "source": [
    "def NAG(parameters, gradients, eta=0.05, momentum=0.9):\n",
    "    para_num = len(parameters)\n",
    "    updates = np.zeros((para_num,1))\n",
    "    v = np.zeros(para_num)\n",
    "    next_v = np.zeros(para_num)\n",
    "    for i in range(para_num):\n",
    "        next_v[i] = momentum * v[i] + eta * gradients[i,0] \n",
    "        updates[i,0] = parameters[i,0] - momentum * next_v[i] - eta * gradients[i,0]\n",
    "    return updates"
   ]
  },
  {
   "cell_type": "code",
   "execution_count": 181,
   "metadata": {
    "collapsed": true
   },
   "outputs": [],
   "source": [
    "def RMSProp(parameters, gradients, eta=0.002, momentum=0.9, epsilon=1e-8):\n",
    "    para_num = len(parameters)\n",
    "    updates = np.zeros((para_num,1))\n",
    "    G = np.zeros(para_num)\n",
    "    next_G = np.zeros(para_num)\n",
    "    for i in range(para_num):\n",
    "        next_G[i] = momentum * G[i] + (1 - momentum) * np.square(gradients[i,0])\n",
    "        updates[i,0] = parameters[i,0] - eta * gradients[i,0] / np.sqrt(next_G[i] + epsilon)\n",
    "    return updates"
   ]
  },
  {
   "cell_type": "code",
   "execution_count": 157,
   "metadata": {
    "collapsed": true
   },
   "outputs": [],
   "source": [
    "def AdaDelta(parameters, gradients, momentum=0.95, epsilon=1e-6):\n",
    "    para_num = len(parameters)\n",
    "    updates = np.zeros((para_num,1))\n",
    "    G = np.zeros(para_num)\n",
    "    next_G = np.zeros(para_num)\n",
    "    dx = np.zeros(para_num)\n",
    "    next_dx = np.zeros(para_num)\n",
    "    for i in range(para_num):\n",
    "        next_G[i] = momentum * G[i] + (1 - momentum) * np.square(gradients[i,0])\n",
    "        next_dx[i] = np.sqrt(dx[i] + epsilon) / np.sqrt(next_G[i] + epsilon)\n",
    "        updates[i,0] =parameters[i,0] - next_dx[i] * gradients[i,0]\n",
    "    return updates"
   ]
  },
  {
   "cell_type": "code",
   "execution_count": 206,
   "metadata": {},
   "outputs": [],
   "source": [
    "def Adam(parameters, gradients, eta=0.002, momentum=0.999, beta=0.9, epsilon=1e-8):\n",
    "    para_num = len(parameters)\n",
    "    updates = np.zeros((para_num,1))\n",
    "    G = np.zeros(para_num)\n",
    "    next_G = np.zeros(para_num)\n",
    "    m = np.zeros(para_num)\n",
    "    next_m = np.zeros(para_num)\n",
    "    for i in range(para_num):\n",
    "        next_m[i] = beta * m[i] + (1 - beta) * gradients[i,0] \n",
    "        next_G[i] = momentum * G[i] + (1 - momentum) * np.square(gradients[i,0])\n",
    "        updates[i,0] = parameters[i,0] - eta * np.sqrt(1 - momentum) / (1 - beta) * next_m[i] / np.sqrt(next_G[i] + epsilon)\n",
    "    return updates"
   ]
  },
  {
   "cell_type": "code",
   "execution_count": 218,
   "metadata": {},
   "outputs": [],
   "source": [
    "W = np.zeros((m+1,1)) #weights\n",
    "loss_train_NAG = []\n",
    "loss_test_NAG = []\n",
    "MAX_LOOPS = 1000\n",
    "batch_size = 128\n",
    "cnt = 0\n",
    "C = 0.01\n",
    "eta = 0.05\n",
    "y_train_pred_batch = []\n",
    "\n",
    "#Mini-batch Stochastic Gradient Descent with NAG\n",
    "\n",
    "while True:\n",
    "    idx = random.sample(range(0,n),batch_size)\n",
    "    x_train_batch = x_train[idx]\n",
    "    y_train_batch = y_train[idx]\n",
    "    y_train_pred_batch = x_train_batch *W;  \n",
    "    g = 1-np.multiply(y_train_batch,y_train_pred_batch)\n",
    "    idx_1 = np.where(g>=0)[0]\n",
    "    idx_2 = np.where(g<0)[0]\n",
    "    deltaW_2 = -W.T    \n",
    "    deltaW_1 = C*y_train_batch.T*x_train_batch+deltaW_2\n",
    "    deltaW = eta*((deltaW_1*len(idx_1)+deltaW_2*len(idx_2))/batch_size)\n",
    "    W = NAG(W,-deltaW.T,eta)\n",
    "    y_train_pred = x_train*W\n",
    "    g = 1-np.multiply(y_train,y_train_pred)\n",
    "\n",
    "    loss_train_NAG.append(((np.linalg.norm(W))**2/2+C*sum(np.maximum(zeros((n,1)),g)))/n)\n",
    "    y_test_pred = x_test*W\n",
    "    loss_test_NAG.append(((np.linalg.norm(W))**2/2+C*sum(np.maximum(zeros((len(y_test),1)),1-np.multiply(y_test,y_test_pred))))/len(y_test))\n",
    "    if cnt>MAX_LOOPS:\n",
    "        break\n",
    "    cnt = cnt+1"
   ]
  },
  {
   "cell_type": "code",
   "execution_count": 215,
   "metadata": {},
   "outputs": [
    {
     "name": "stdout",
     "output_type": "stream",
     "text": [
      "The accuracy: 0.7829985873103618\n"
     ]
    },
    {
     "data": {
      "image/png": "[encoded data removed]",
      "text/plain": [
       "<matplotlib.figure.Figure at 0x1a268a5cac8>"
      ]
     },
     "metadata": {},
     "output_type": "display_data"
    }
   ],
   "source": [
    "print(\"The accuracy:\",rightRate(y_test,y_test_pred))\n",
    "\n",
    "plot(loss_test_NAG[:],label='loss_test')\n",
    "title(\"NAG_TEST\")\n",
    "legend()\n",
    "plt.show()"
   ]
  },
  {
   "cell_type": "code",
   "execution_count": 220,
   "metadata": {},
   "outputs": [],
   "source": [
    "W = np.zeros((m+1,1)) #weights\n",
    "loss_train_RMSProp = []\n",
    "loss_test_RMSProp = []\n",
    "MAX_LOOPS = 1000\n",
    "batch_size = 128\n",
    "cnt = 0\n",
    "C = 0.01\n",
    "eta = 0.001\n",
    "y_train_pred_batch = []\n",
    "\n",
    "#Mini-batch Stochastic Gradient Descent with RMSProp\n",
    "\n",
    "while True:\n",
    "    idx = random.sample(range(0,n),batch_size)\n",
    "    x_train_batch = x_train[idx]\n",
    "    y_train_batch = y_train[idx]\n",
    "    y_train_pred_batch = x_train_batch *W;  \n",
    "    g = 1-np.multiply(y_train_batch,y_train_pred_batch)\n",
    "    idx_1 = np.where(g>=0)[0]\n",
    "    idx_2 = np.where(g<0)[0]\n",
    "    deltaW_2 = -W.T    \n",
    "    deltaW_1 = C*y_train_batch.T*x_train_batch+deltaW_2\n",
    "    deltaW = eta*((deltaW_1*len(idx_1)+deltaW_2*len(idx_2))/batch_size)\n",
    "    W = RMSProp(W,-deltaW.T,eta)\n",
    "    y_train_pred = x_train*W\n",
    "    g = 1-np.multiply(y_train,y_train_pred)\n",
    "\n",
    "    loss_train_RMSProp.append(((np.linalg.norm(W))**2/2+C*sum(np.maximum(zeros((n,1)),g)))/n)\n",
    "    y_test_pred = x_test*W\n",
    "    loss_test_RMSProp.append(((np.linalg.norm(W))**2/2+C*sum(np.maximum(zeros((len(y_test),1)),1-np.multiply(y_test,y_test_pred))))/len(y_test))\n",
    "    if cnt>MAX_LOOPS:\n",
    "        break\n",
    "    cnt = cnt+1"
   ]
  },
  {
   "cell_type": "code",
   "execution_count": 221,
   "metadata": {},
   "outputs": [
    {
     "name": "stdout",
     "output_type": "stream",
     "text": [
      "The accuracy: 0.7817087402493704\n"
     ]
    },
    {
     "data": {
      "image/png": "[encoded data removed]",
      "text/plain": [
       "<matplotlib.figure.Figure at 0x1a26d4ac470>"
      ]
     },
     "metadata": {},
     "output_type": "display_data"
    }
   ],
   "source": [
    "print(\"The accuracy:\",rightRate(y_test,y_test_pred))\n",
    "\n",
    "plot(loss_test_RMSProp[:],label='loss_test')\n",
    "title(\"RMSProp_TEST\")\n",
    "legend()\n",
    "plt.show()"
   ]
  },
  {
   "cell_type": "code",
   "execution_count": 222,
   "metadata": {
    "collapsed": true
   },
   "outputs": [],
   "source": [
    "W = np.zeros((m+1,1)) #weights\n",
    "loss_train_AdaDelta = []\n",
    "loss_test_AdaDelta = []\n",
    "MAX_LOOPS = 1000\n",
    "batch_size = 128\n",
    "cnt = 0\n",
    "C = 0.01\n",
    "y_train_pred_batch = []\n",
    "\n",
    "#Mini-batch Stochastic Gradient Descent with AdaDelta\n",
    "\n",
    "while True:\n",
    "    idx = random.sample(range(0,n),batch_size)\n",
    "    x_train_batch = x_train[idx]\n",
    "    y_train_batch = y_train[idx]\n",
    "    y_train_pred_batch = x_train_batch *W;  \n",
    "    g = 1-np.multiply(y_train_batch,y_train_pred_batch)\n",
    "    idx_1 = np.where(g>=0)[0]\n",
    "    idx_2 = np.where(g<0)[0]\n",
    "    deltaW_2 = -W.T    \n",
    "    deltaW_1 = C*y_train_batch.T*x_train_batch+deltaW_2\n",
    "    deltaW = eta*((deltaW_1*len(idx_1)+deltaW_2*len(idx_2))/batch_size)\n",
    "    W = AdaDelta(W,-deltaW.T)\n",
    "    y_train_pred = x_train*W\n",
    "    g = 1-np.multiply(y_train,y_train_pred)\n",
    "\n",
    "    loss_train_AdaDelta.append(((np.linalg.norm(W))**2/2+C*sum(np.maximum(zeros((n,1)),g)))/n)\n",
    "    y_test_pred = x_test*W\n",
    "    loss_test_AdaDelta.append(((np.linalg.norm(W))**2/2+C*sum(np.maximum(zeros((len(y_test),1)),1-np.multiply(y_test,y_test_pred))))/len(y_test))\n",
    "    if cnt>MAX_LOOPS:\n",
    "        break\n",
    "    cnt = cnt+1\n"
   ]
  },
  {
   "cell_type": "code",
   "execution_count": 223,
   "metadata": {},
   "outputs": [
    {
     "name": "stdout",
     "output_type": "stream",
     "text": [
      "The accuracy: 0.7809716847859468\n"
     ]
    },
    {
     "data": {
      "image/png": "[encoded data removed]",
      "text/plain": [
       "<matplotlib.figure.Figure at 0x1a2689c1518>"
      ]
     },
     "metadata": {},
     "output_type": "display_data"
    }
   ],
   "source": [
    "print(\"The accuracy:\",rightRate(y_test,y_test_pred))\n",
    "\n",
    "plot(loss_test_AdaDelta[:],label='loss_test')\n",
    "title(\"AdaDelta_TEST\")\n",
    "legend()\n",
    "plt.show()"
   ]
  },
  {
   "cell_type": "code",
   "execution_count": 224,
   "metadata": {},
   "outputs": [],
   "source": [
    "W = np.zeros((m+1,1)) #weights\n",
    "loss_train_Adam = []\n",
    "loss_test_Adam = []\n",
    "MAX_LOOPS = 1000\n",
    "batch_size = 128\n",
    "cnt = 0\n",
    "C = 0.01\n",
    "eta = 0.002\n",
    "y_train_pred_batch = []\n",
    "\n",
    "#Mini-batch Stochastic Gradient Descent with Adam\n",
    "\n",
    "while True:\n",
    "    idx = random.sample(range(0,n),batch_size)\n",
    "    x_train_batch = x_train[idx]\n",
    "    y_train_batch = y_train[idx]\n",
    "    y_train_pred_batch = x_train_batch *W;  \n",
    "    g = 1-np.multiply(y_train_batch,y_train_pred_batch)\n",
    "    idx_1 = np.where(g>=0)[0]\n",
    "    idx_2 = np.where(g<0)[0]\n",
    "    deltaW_2 = -W.T    \n",
    "    deltaW_1 = C*y_train_batch.T*x_train_batch+deltaW_2\n",
    "    deltaW = eta*((deltaW_1*len(idx_1)+deltaW_2*len(idx_2))/batch_size)\n",
    "    W = Adam(W,-deltaW.T,eta)\n",
    "    y_train_pred = x_train*W\n",
    "    g = 1-np.multiply(y_train,y_train_pred)\n",
    "\n",
    "    loss_train_Adam.append(((np.linalg.norm(W))**2/2+C*sum(np.maximum(zeros((n,1)),g)))/n)\n",
    "    y_test_pred = x_test*W\n",
    "    loss_test_Adam.append(((np.linalg.norm(W))**2/2+C*sum(np.maximum(zeros((len(y_test),1)),1-np.multiply(y_test,y_test_pred))))/len(y_test))\n",
    "    if cnt>MAX_LOOPS:\n",
    "        break\n",
    "    cnt = cnt+1"
   ]
  },
  {
   "cell_type": "code",
   "execution_count": 225,
   "metadata": {},
   "outputs": [
    {
     "name": "stdout",
     "output_type": "stream",
     "text": [
      "The accuracy: 0.7822615318469381\n"
     ]
    },
    {
     "data": {
      "image/png": "[encoded data removed]",
      "text/plain": [
       "<matplotlib.figure.Figure at 0x1a268ae3dd8>"
      ]
     },
     "metadata": {},
     "output_type": "display_data"
    }
   ],
   "source": [
    "print(\"The accuracy:\",rightRate(y_test,y_test_pred))\n",
    "\n",
    "plot(loss_test_Adam[:],label='loss_test')\n",
    "title(\"Adam_TEST\")\n",
    "legend()\n",
    "plt.show()"
   ]
  },
  {
   "cell_type": "code",
   "execution_count": 226,
   "metadata": {},
   "outputs": [
    {
     "data": {
      "image/png": "[encoded data removed]",
      "text/plain": [
       "<matplotlib.figure.Figure at 0x1a26d683f28>"
      ]
     },
     "metadata": {},
     "output_type": "display_data"
    }
   ],
   "source": [
    "plt.yscale('log')\n",
    "plot(loss_test_NAG,label='NAG')\n",
    "plot(loss_test_RMSProp,label='RMSProp')\n",
    "plot(loss_test_AdaDelta,label='AdaDelta')\n",
    "plot(loss_test_Adam,label='Adam')\n",
    "title(\"TEST DATASET\")\n",
    "legend()\n",
    "plt.show()"
   ]
  },
  {
   "cell_type": "code",
   "execution_count": null,
   "metadata": {
    "collapsed": true
   },
   "outputs": [],
   "source": []
  }
 ],
 "metadata": {
  "kernelspec": {
   "display_name": "Python 3",
   "language": "python",
   "name": "python3"
  },
  "language_info": {
   "codemirror_mode": {
    "name": "ipython",
    "version": 3
   },
   "file_extension": ".py",
   "mimetype": "text/x-python",
   "name": "python",
   "nbconvert_exporter": "python",
   "pygments_lexer": "ipython3",
   "version": "3.6.2"
  }
 },
 "nbformat": 4,
 "nbformat_minor": 2
}
